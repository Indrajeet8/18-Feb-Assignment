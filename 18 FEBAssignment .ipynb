{
 "cells": [
  {
   "cell_type": "markdown",
   "id": "c06d2429-ff53-4f62-911e-162b35075414",
   "metadata": {},
   "source": [
    "# Web Api"
   ]
  },
  {
   "cell_type": "markdown",
   "id": "05a765ef-08df-4873-8f8c-023e9f10f78e",
   "metadata": {},
   "source": [
    "## Assignment Questions"
   ]
  },
  {
   "cell_type": "code",
   "execution_count": 1,
   "id": "93948fb8-5294-492f-88ad-4da65a129372",
   "metadata": {},
   "outputs": [],
   "source": [
    "#Q1. What is an API? Give an example, where an API is used in real life."
   ]
  },
  {
   "cell_type": "markdown",
   "id": "22ec0faa-fffd-4909-9710-d0d99a57a112",
   "metadata": {},
   "source": [
    "API examples\n",
    "In practice, an API can be used to connect virtually any processes. Here are a few common examples of APIs: Sharing flight information between airlines and travel sites. Using Google Maps in a rideshare app"
   ]
  },
  {
   "cell_type": "code",
   "execution_count": 2,
   "id": "dc91691b-6571-49a4-84bb-82395d95aa8a",
   "metadata": {},
   "outputs": [],
   "source": [
    "#Q2. Give advantages and disadvantages of using API."
   ]
  },
  {
   "cell_type": "markdown",
   "id": "f0f8edc6-e2fa-4812-9f0e-839db401ff18",
   "metadata": {},
   "source": [
    "#### Advantages and Disadvantages of API"
   ]
  },
  {
   "cell_type": "markdown",
   "id": "0c62e5bf-b4d3-4f0c-9978-b1e6363310f9",
   "metadata": {},
   "source": [
    "1. Increased Interoperability\n",
    "2. Improved Efficiency: \n",
    "3. Better User Experience:\n",
    "4. Increased Flexibility "
   ]
  },
  {
   "cell_type": "markdown",
   "id": "cd89f0b4-37ca-41a1-a853-c632bc87a57a",
   "metadata": {},
   "source": [
    "##### Disadvantages:"
   ]
  },
  {
   "cell_type": "markdown",
   "id": "b89e82f0-ca0f-4bd1-9ebb-199400537428",
   "metadata": {},
   "source": [
    "1. Security Concerns\n",
    "2. complexity \n",
    "3. compatiapility\n",
    "4. Depandecy on thired party Developers\n"
   ]
  },
  {
   "cell_type": "code",
   "execution_count": 4,
   "id": "f8f46434-8954-457a-82d2-fd54e8c52eaa",
   "metadata": {},
   "outputs": [],
   "source": [
    "#Q3. What is a Web API? Differentiate between API and Web API."
   ]
  },
  {
   "cell_type": "markdown",
   "id": "98b068a1-f6ad-4eb7-9cef-1b954e1d8b60",
   "metadata": {},
   "source": [
    "API is an interface that exposes an application's data to outside software, whereas web applications are one type of API with stricter requirements. These requirements include network communication, SOAP as the primary protocol, and less accessibility for the public."
   ]
  },
  {
   "cell_type": "code",
   "execution_count": 5,
   "id": "bc9eb85b-b7de-4cf5-8ebd-5ded84b2176e",
   "metadata": {},
   "outputs": [],
   "source": [
    "#Q4. Explain REST and SOAP Architecture. Mention shortcomings of SOAP."
   ]
  },
  {
   "cell_type": "markdown",
   "id": "2488bd6e-ce38-4213-88ff-08cee4b2cbe9",
   "metadata": {},
   "source": [
    "SOAP supports only XML data exchange. REST supports XML, JSON, plain text, HTML. SOAP messages are larger, which makes communication slower. REST has faster performance due to smaller messages and caching support."
   ]
  },
  {
   "cell_type": "code",
   "execution_count": null,
   "id": "517a2856-9315-48a7-a5af-ac9b6e8d417c",
   "metadata": {},
   "outputs": [],
   "source": []
  }
 ],
 "metadata": {
  "kernelspec": {
   "display_name": "Python 3 (ipykernel)",
   "language": "python",
   "name": "python3"
  },
  "language_info": {
   "codemirror_mode": {
    "name": "ipython",
    "version": 3
   },
   "file_extension": ".py",
   "mimetype": "text/x-python",
   "name": "python",
   "nbconvert_exporter": "python",
   "pygments_lexer": "ipython3",
   "version": "3.10.8"
  }
 },
 "nbformat": 4,
 "nbformat_minor": 5
}
